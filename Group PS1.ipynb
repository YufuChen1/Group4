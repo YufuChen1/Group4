{
 "cells": [
  {
   "cell_type": "code",
   "execution_count": 15,
   "id": "14f32770",
   "metadata": {},
   "outputs": [
    {
     "name": "stdout",
     "output_type": "stream",
     "text": [
      "[2, 5, 6]\n",
      "[2, 2]\n"
     ]
    }
   ],
   "source": [
    "\"Question 1\"\n",
    "\"a)\"\n",
    "L1 = [2, 5, 6, 4, 5 ,9, 3, 2, 2]\n",
    "print(L1[0:3]) #print from index_0 to index_4, excluding index_4\n",
    "print(L1[-2:]) #print from second last index to index zero, excluding index 0"
   ]
  },
  {
   "cell_type": "code",
   "execution_count": 16,
   "id": "d674f19b",
   "metadata": {},
   "outputs": [
    {
     "name": "stdout",
     "output_type": "stream",
     "text": [
      "[2, 5, 4, 4, 5, 9, 7, 2, 2]\n"
     ]
    }
   ],
   "source": [
    "\"b)\"\n",
    "L1[2] = 4 #replacing index_2 with 4\n",
    "L1[6] = 7 #replacing index_6 with 7\n",
    "print(L1)"
   ]
  },
  {
   "cell_type": "code",
   "execution_count": 17,
   "id": "47c7589f",
   "metadata": {},
   "outputs": [
    {
     "name": "stdout",
     "output_type": "stream",
     "text": [
      "[2, 5, 4, 4, 5, 8, 7, 2, 2]\n"
     ]
    }
   ],
   "source": [
    "\"c)\"\n",
    "L1.insert(L1.index(9),8) #insert number 8 into list\n",
    "L1.remove(9) #remove the number 9 from list\n",
    "print(L1)"
   ]
  },
  {
   "cell_type": "code",
   "execution_count": 18,
   "id": "cf28163e",
   "metadata": {},
   "outputs": [
    {
     "name": "stdout",
     "output_type": "stream",
     "text": [
      "5\n",
      "[2 5 6 4 5 8 3 2 2]\n"
     ]
    }
   ],
   "source": [
    "\"d)\"\n",
    "import numpy as np\n",
    "arr = np.array([2, 5, 6, 4, 5 ,9, 3, 2, 2])\n",
    "print(np.argmax(arr)) #shows index of the maximum value(9)\n",
    "arr.put(5, 8) #replace index 5 with number 8\n",
    "print(arr)"
   ]
  },
  {
   "cell_type": "code",
   "execution_count": 19,
   "id": "0d5f280e",
   "metadata": {},
   "outputs": [
    {
     "name": "stdout",
     "output_type": "stream",
     "text": [
      "the new list into a 3 × 3 matrix [[2 5 6]\n",
      " [4 5 9]\n",
      " [3 2 2]]\n"
     ]
    }
   ],
   "source": [
    "\"Question 2\"\n",
    "\n",
    "\"a)\"\n",
    "l1 = [2, 5, 6, 4, 5, 9, 3, 2, 2]\n",
    "array = np.array(l1)\n",
    "array=array.reshape(3,3) # Reshape a new 3 * 3 2D matrix called A\n",
    "print('the new list into a 3 × 3 matrix', array)"
   ]
  },
  {
   "cell_type": "code",
   "execution_count": 20,
   "id": "f5d4c470",
   "metadata": {},
   "outputs": [
    {
     "name": "stdout",
     "output_type": "stream",
     "text": [
      "the maximum of the matrix A 9 the index of the maximum 5\n"
     ]
    }
   ],
   "source": [
    "\"b)\"\n",
    "max = np.max(array) # Initialize the maximum value in matrix A\n",
    "max_position = np.argmax(array) # Initialize the position of the maximum value in matrix A\n",
    "print('the maximum of the matrix A', max,'the index of the maximum',max_position)\n"
   ]
  },
  {
   "cell_type": "code",
   "execution_count": 21,
   "id": "62ff71d7",
   "metadata": {},
   "outputs": [
    {
     "name": "stdout",
     "output_type": "stream",
     "text": [
      "Transpose the matrixA [[2 4 3]\n",
      " [5 5 2]\n",
      " [6 9 2]]\n"
     ]
    }
   ],
   "source": [
    "\"c)\"\n",
    "transpose_a = np.transpose(array) # Transpose elements in units of each axis in the matrix A\n",
    "print('Transpose the matrixA', transpose_a)"
   ]
  },
  {
   "cell_type": "code",
   "execution_count": 22,
   "id": "f54b9166",
   "metadata": {},
   "outputs": [
    {
     "name": "stdout",
     "output_type": "stream",
     "text": [
      "Raise to the power all the elements in matrix A [[ 4 25 36]\n",
      " [16 25 81]\n",
      " [ 9  4  4]]\n"
     ]
    }
   ],
   "source": [
    "\"d)\"\n",
    "power_a = np.power(array,2) # Raise to the power all the elements in matrix A.\n",
    "print('Raise to the power all the elements in matrix A', power_a)"
   ]
  },
  {
   "cell_type": "code",
   "execution_count": 23,
   "id": "29123921",
   "metadata": {},
   "outputs": [
    {
     "name": "stdout",
     "output_type": "stream",
     "text": [
      "Raise to the power all the elements in matrix A [[ 4 25 36]\n",
      " [16 25 81]\n",
      " [ 9  4  4]]\n"
     ]
    }
   ],
   "source": [
    "\"d)\"\n",
    "power_a = np.power(array,2) # Raise to the power all the elements in matrix A.\n",
    "print('Raise to the power all the elements in matrix A', power_a)"
   ]
  },
  {
   "cell_type": "code",
   "execution_count": 24,
   "id": "7779404d",
   "metadata": {},
   "outputs": [
    {
     "name": "stdout",
     "output_type": "stream",
     "text": [
      "Compute the eigenvalues of matrix A. [11.93968476+0.j         -1.46984238+0.96874799j -1.46984238-0.96874799j]\n"
     ]
    }
   ],
   "source": [
    "\"e)\"\n",
    "eigenvalues = np.linalg.eig(array)[0] # Calculate the eigenvalue of matrix A\n",
    "print('Compute the eigenvalues of matrix A.', eigenvalues)"
   ]
  },
  {
   "cell_type": "code",
   "execution_count": 25,
   "id": "8cc70bec",
   "metadata": {},
   "outputs": [
    {
     "name": "stdout",
     "output_type": "stream",
     "text": [
      "a matrix of zeros [[0. 0. 0.]\n",
      " [0. 0. 0.]\n",
      " [0. 0. 0.]]\n",
      "the identity matrix [[1. 0. 0.]\n",
      " [0. 1. 0.]\n",
      " [0. 0. 1.]]\n",
      "a matrix of ones [[1. 1. 1.]\n",
      " [1. 1. 1.]\n",
      " [1. 1. 1.]]\n",
      "Multiply matrix A by a matrix of zeros [[0. 0. 0.]\n",
      " [0. 0. 0.]\n",
      " [0. 0. 0.]]\n",
      "Multiply matrix A by the identity matrix [[2. 5. 6.]\n",
      " [4. 5. 9.]\n",
      " [3. 2. 2.]]\n",
      "Multiply matrix A by a matrix of ones [[13. 13. 13.]\n",
      " [18. 18. 18.]\n",
      " [ 7.  7.  7.]]\n"
     ]
    }
   ],
   "source": [
    "\"f)\"\n",
    "f1 = np.zeros((3,3)) # Initialize a 3 * 3 zero matrix\n",
    "print('a matrix of zeros', f1)\n",
    "f2 = np.eye(3) # Initialize a 3 * 3 identity matrix\n",
    "print('the identity matrix', f2)\n",
    "f3 = np.ones((3,3)) # Initialize a 3 * 3 one matrix\n",
    "print('a matrix of ones', f3)\n",
    "print('Multiply matrix A by a matrix of zeros', np.matmul(array, f1))\n",
    "print('Multiply matrix A by the identity matrix', np.matmul(array, f2))\n",
    "print('Multiply matrix A by a matrix of ones', np.matmul(array, f3))"
   ]
  },
  {
   "cell_type": "code",
   "execution_count": 26,
   "id": "9af92c9c",
   "metadata": {},
   "outputs": [
    {
     "name": "stdout",
     "output_type": "stream",
     "text": [
      "Convert the grid into a 3x3 matrix called B [[0 1 2]\n",
      " [3 4 5]\n",
      " [6 7 8]]\n",
      "Multiply matrix A by matrix B [[ 51  64  77]\n",
      " [ 69  87 105]\n",
      " [ 18  25  32]]\n"
     ]
    }
   ],
   "source": [
    "\"g)\"\n",
    "l2 = [0, 1, 2, 3, 4, 5, 6, 7, 8]\n",
    "array2 = np.array(l2) # Reshape a 0-9 element list l2, and initialize l2 into a 3 * 3 matrix B\n",
    "array2=array2.reshape(3,3) # Multiply matrix A by matrix B\n",
    "print('Convert the grid into a 3x3 matrix called B', array2)\n",
    "print('Multiply matrix A by matrix B', np.matmul(array, array2))"
   ]
  },
  {
   "cell_type": "code",
   "execution_count": 27,
   "id": "60041108",
   "metadata": {},
   "outputs": [
    {
     "name": "stdout",
     "output_type": "stream",
     "text": [
      "Sum of 0 and 1 is: 1\n",
      "Sum of 1 and 2 is: 3\n",
      "Sum of 2 and 3 is: 5\n",
      "Sum of 3 and 4 is: 7\n",
      "Sum of 4 and 5 is: 9\n",
      "Sum of 5 and 6 is: 11\n",
      "Sum of 6 and 7 is: 13\n",
      "Sum of 7 and 8 is: 15\n",
      "Sum of 8 and 9 is: 17\n",
      "Sum of 9 and 10 is: 19\n"
     ]
    }
   ],
   "source": [
    "\"Question 3\"\n",
    "previous_number = 0 #to start from zero\n",
    "for i in range(1, 11): #numbers with range from 0 to 10\n",
    "    current_number = i \n",
    "    sum = previous_number + current_number #equation for sum\n",
    "    print(\"Sum of\", previous_number, \"and\", current_number, \"is:\", sum)\n",
    "    previous_number = current_number #current number becomes previous number"
   ]
  },
  {
   "cell_type": "code",
   "execution_count": 28,
   "id": "27070515",
   "metadata": {},
   "outputs": [
    {
     "name": "stdout",
     "output_type": "stream",
     "text": [
      "[2, 4, 3, 2, 2]\n"
     ]
    }
   ],
   "source": [
    "'question 4'\n",
    "\"a)\"\n",
    "L1 = [2, 5, 6, 4, 5 ,9, 3, 2, 2]\n",
    "L2 = [L1 for L1 in L1 if int(L1) < 5]\n",
    "print(L2)"
   ]
  },
  {
   "cell_type": "code",
   "execution_count": 29,
   "id": "e9e8f601",
   "metadata": {},
   "outputs": [
    {
     "name": "stdout",
     "output_type": "stream",
     "text": [
      "[5, 6, 4, 5, 3]\n"
     ]
    }
   ],
   "source": [
    "\"b)\"\n",
    "L3 = [L1 for L1 in L1 if int(L1) >= 3 and int(L1) < 7]\n",
    "print(L3)"
   ]
  },
  {
   "cell_type": "code",
   "execution_count": 12,
   "id": "4b634241",
   "metadata": {},
   "outputs": [
    {
     "name": "stdout",
     "output_type": "stream",
     "text": [
      "[[2 5 6]\n",
      " [4 5 9]\n",
      " [3 2 2]]\n",
      "True\n"
     ]
    }
   ],
   "source": [
    "\"c)\"\n",
    "import numpy as np\n",
    "matrix = np.mat(\"2, 5, 6; 4, 5 ,9; 3, 2, 2\")\n",
    "print(matrix)\n",
    "print(5 in matrix)"
   ]
  },
  {
   "cell_type": "code",
   "execution_count": 30,
   "id": "519f95e2",
   "metadata": {},
   "outputs": [
    {
     "name": "stdout",
     "output_type": "stream",
     "text": [
      "[[0 5 6]\n",
      " [4 5 9]\n",
      " [0 0 0]]\n"
     ]
    }
   ],
   "source": [
    "\"d)\"\n",
    "import numpy as np\n",
    "matrix = np.mat(\"2, 5, 6; 4, 5 ,9; 3, 2, 2\") \n",
    "matrix[matrix < 4] = 0\n",
    "matrix_b = matrix\n",
    "print(matrix_b)"
   ]
  },
  {
   "cell_type": "code",
   "execution_count": 31,
   "id": "c95ba660",
   "metadata": {},
   "outputs": [
    {
     "name": "stdout",
     "output_type": "stream",
     "text": [
      "4\n"
     ]
    }
   ],
   "source": [
    "\"e)\"\n",
    "print(np.count_nonzero(matrix_b == 0))"
   ]
  },
  {
   "cell_type": "code",
   "execution_count": 32,
   "id": "b34feae9",
   "metadata": {},
   "outputs": [
    {
     "name": "stdout",
     "output_type": "stream",
     "text": [
      "A= 2\n",
      "K= 2\n",
      "L= 2\n",
      "alpha = 3\n",
      "sigma = 3\n",
      "16.0\n"
     ]
    }
   ],
   "source": [
    "\"question 5\"\n",
    "\"a)\"\n",
    "A = input(\"A= \", )\n",
    "K = input(\"K= \", )\n",
    "L = input(\"L= \", )\n",
    "alpha = input(\"alpha = \")\n",
    "sig = input(\"sigma = \")\n",
    "power1 = (float(sig)-1)/1\n",
    "power2 = float(sig)/(float(sig)-1)\n",
    "CES = float(A)*(float(alpha)*float(K)**float(power1) + (1-float(alpha))*float(L)**float(power1))**float(power2)\n",
    "CD = float(A)*(float(K)**float(alpha))*float(L)**(1-float(alpha))\n",
    "if float(alpha) == 1: \n",
    "    print(CD)\n",
    "elif float(alpha) != 1:\n",
    "    print(CES)"
   ]
  },
  {
   "cell_type": "code",
   "execution_count": 38,
   "id": "91fa650f",
   "metadata": {},
   "outputs": [
    {
     "data": {
      "text/plain": [
       "[<matplotlib.lines.Line2D at 0x7fc842fc5850>]"
      ]
     },
     "execution_count": 38,
     "metadata": {},
     "output_type": "execute_result"
    },
    {
     "data": {
      "image/png": "[encoded data removed]",
      "text/plain": [
       "<Figure size 640x480 with 1 Axes>"
      ]
     },
     "metadata": {},
     "output_type": "display_data"
    }
   ],
   "source": [
    "\"b)\"\n",
    "import matplotlib.pyplot as plt\n",
    "import numpy as np\n",
    "A = 1.5\n",
    "alpha = 0.33\n",
    "L = 3\n",
    "vector = np.vectorize(np.int_) #use vector to prevent typr error\n",
    "K = np.linspace(0,10,11)\n",
    "def f(K) : return float(A)*(vector(K)**float(alpha))*float(L)**(1-float(alpha))\n",
    "plt.xlabel(\"$K$\")\n",
    "plt.ylabel(\"$Y$\")\n",
    "plt.plot(K,f(K))"
   ]
  },
  {
   "cell_type": "code",
   "execution_count": 39,
   "id": "a07f8902",
   "metadata": {},
   "outputs": [
    {
     "data": {
      "text/plain": [
       "[<matplotlib.lines.Line2D at 0x7fc858b4cfa0>]"
      ]
     },
     "execution_count": 39,
     "metadata": {},
     "output_type": "execute_result"
    },
    {
     "data": {
      "image/png": "[encoded data removed]",
      "text/plain": [
       "<Figure size 640x480 with 1 Axes>"
      ]
     },
     "metadata": {},
     "output_type": "display_data"
    }
   ],
   "source": [
    "\"c)\"\n",
    "def g(K) : return float(A)*(vector(K)**0.25)*float(L)**(1-0.25)\n",
    "def h(K) : return float(A)*(vector(K)**0.5)*float(L)**(1-0.5)\n",
    "def i(K) : return float(A)*(vector(K)**0.75)*float(L)**(1-0.75)\n",
    "plt.plot(K,g(K))\n",
    "plt.plot(K,h(K))\n",
    "plt.plot(K,i(K))"
   ]
  },
  {
   "cell_type": "code",
   "execution_count": 40,
   "id": "214151ff",
   "metadata": {},
   "outputs": [
    {
     "name": "stderr",
     "output_type": "stream",
     "text": [
      "/var/folders/q3/6gfsjm050t915c2_4fcm9mph0000gn/T/ipykernel_396/225363541.py:12: RuntimeWarning: divide by zero encountered in power\n",
      "  def f(K) : return float(A)*(float(alpha)*vector(K)**float(power1) + (1-float(alpha))*float(L)**float(power1))**float(power2)\n"
     ]
    },
    {
     "data": {
      "text/plain": [
       "[<matplotlib.lines.Line2D at 0x7fc848254640>]"
      ]
     },
     "execution_count": 40,
     "metadata": {},
     "output_type": "execute_result"
    },
    {
     "data": {
      "image/png": "[encoded data removed]",
      "text/plain": [
       "<Figure size 640x480 with 1 Axes>"
      ]
     },
     "metadata": {},
     "output_type": "display_data"
    }
   ],
   "source": [
    "\"d)\"\n",
    "import matplotlib.pyplot as plt\n",
    "import numpy as np\n",
    "A = 1.5\n",
    "alpha = 0.33\n",
    "L = 3\n",
    "sig = 0.33\n",
    "vector = np.vectorize(np.int_)\n",
    "K = np.linspace(0,10,11)\n",
    "power1 = (float(sig)-1)/1\n",
    "power2 = float(sig)/(float(sig)-1)\n",
    "def f(K) : return float(A)*(float(alpha)*vector(K)**float(power1) + (1-float(alpha))*float(L)**float(power1))**float(power2)\n",
    "plt.xlabel(\"$K$\")\n",
    "plt.ylabel(\"$Y$\")\n",
    "plt.plot(K,f(K))"
   ]
  },
  {
   "cell_type": "code",
   "execution_count": 41,
   "id": "203222cd",
   "metadata": {},
   "outputs": [
    {
     "name": "stderr",
     "output_type": "stream",
     "text": [
      "/var/folders/q3/6gfsjm050t915c2_4fcm9mph0000gn/T/ipykernel_396/3066563894.py:8: RuntimeWarning: divide by zero encountered in power\n",
      "  def g(K) : return float(A)*(float(alpha)*vector(K)**float(power1) +(1-float(alpha))*float(L)**float(power1))**float(power2)\n",
      "/var/folders/q3/6gfsjm050t915c2_4fcm9mph0000gn/T/ipykernel_396/3066563894.py:8: RuntimeWarning: invalid value encountered in reciprocal\n",
      "  def g(K) : return float(A)*(float(alpha)*vector(K)**float(power1) +(1-float(alpha))*float(L)**float(power1))**float(power2)\n"
     ]
    },
    {
     "data": {
      "text/plain": [
       "[<matplotlib.lines.Line2D at 0x7fc858bd2970>]"
      ]
     },
     "execution_count": 41,
     "metadata": {},
     "output_type": "execute_result"
    },
    {
     "data": {
      "image/png": "[encoded data removed]",
      "text/plain": [
       "<Figure size 640x480 with 1 Axes>"
      ]
     },
     "metadata": {},
     "output_type": "display_data"
    }
   ],
   "source": [
    "\"e)\"\n",
    "#repeat d) for different values of sigma, use cobb douglas function when sigma=1.\n",
    "sig = 0.5\n",
    "vector = np.vectorize(np.int_)\n",
    "K = np.linspace(0, 10, 11)\n",
    "power1 = (float(sig)-1)/1\n",
    "power2 = float(sig)/(float(sig)-1)\n",
    "def g(K) : return float(A)*(float(alpha)*vector(K)**float(power1) +(1-float(alpha))*float(L)**float(power1))**float(power2)\n",
    "plt.plot(K,g(K))\n",
    "sig = 1 #use cobb douglas function\n",
    "def h(K) : return float(A)*(vector(K)**float(alpha))*float(L)**(1-float(alpha))\n",
    "plt.plot(K,h(K))\n",
    "sig = 2\n",
    "vector = np.vectorize(np.int_)\n",
    "K = np.linspace(0,10,11)\n",
    "power1 = (float(sig)-1)/1\n",
    "power2 = float(sig)/(float(sig)-1)\n",
    "def i(K) : return float(A)*(float(alpha)*vector(K)**float(power1) + (1-float(alpha))*float(L)**float(power1))**float(power2)\n",
    "plt.plot(K,i(K))\n",
    "sig = 4\n",
    "vector = np.vectorize(np.int_)\n",
    "K = np.linspace(0,10,11)\n",
    "power1 = (float(sig)-1)/1\n",
    "power2 = float(sig)/(float(sig)-1)\n",
    "def j(K) : return float(A)*(float(alpha)*vector(K)**float(power1) + (1-float(alpha))*float(L)**float(power1))**float(power2)    \n",
    "plt.plot(K,j(K))"
   ]
  },
  {
   "cell_type": "code",
   "execution_count": 43,
   "id": "bbfe05d3",
   "metadata": {},
   "outputs": [
    {
     "name": "stdout",
     "output_type": "stream",
     "text": [
      "as sigma increase, the diagram change form concave to convex. The sigma is the constant elasticity of substitution between the two production factors K-capital and L-labour. The higher the sigma is, the more k can change into L. Thus the rise in k lead to faster rise in Y\n"
     ]
    }
   ],
   "source": [
    "\"f)\"\n",
    "print(\"as sigma increase, the diagram change form concave to convex. The sigma is the constant elasticity of substitution between the two production factors K-capital and L-labour. The higher the sigma is, the more k can change into L. Thus the rise in k lead to faster rise in Y\")"
   ]
  }
 ],
 "metadata": {
  "kernelspec": {
   "display_name": "Python 3 (ipykernel)",
   "language": "python",
   "name": "python3"
  },
  "language_info": {
   "codemirror_mode": {
    "name": "ipython",
    "version": 3
   },
   "file_extension": ".py",
   "mimetype": "text/x-python",
   "name": "python",
   "nbconvert_exporter": "python",
   "pygments_lexer": "ipython3",
   "version": "3.9.13"
  }
 },
 "nbformat": 4,
 "nbformat_minor": 5
}
